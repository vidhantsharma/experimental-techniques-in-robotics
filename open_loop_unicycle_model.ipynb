{
  "cells": [
    {
      "cell_type": "code",
      "execution_count": null,
      "metadata": {
        "id": "gI_mKZ7UbMM1"
      },
      "outputs": [],
      "source": [
        "import numpy as np\n",
        "import matplotlib.pyplot as plt"
      ]
    },
    {
      "cell_type": "markdown",
      "metadata": {
        "id": "kKmOP0SFbMM4"
      },
      "source": [
        "### Simulate straight line and circular movements with Unicycle model\n",
        "\n",
        "Robot is at the origin (0, 0) and facing North, i.e, $\\theta = \\pi/2$\n",
        "\n",
        "Use the Kinematics equations we had developed in last for the Unicycle model"
      ]
    },
    {
      "cell_type": "code",
      "execution_count": null,
      "metadata": {
        "id": "AwIYM9dYbMM5"
      },
      "outputs": [],
      "source": [
        "def unicycle_model(curr_pose, v, w, dt=1.0):\n",
        "    ## write code to calculate next_pose\n",
        "    # refer to the kinematic equations of a unicycle model\n",
        "    x = curr_pose[0] + v*np.cos(curr_pose[2])*dt\n",
        "    y = curr_pose[1] + v*np.sin(curr_pose[2])*dt\n",
        "    theta = curr_pose[2] + w*dt\n",
        "    \n",
        "    # Keep theta bounded between [-pi, pi]\n",
        "    theta = np.arctan2(np.sin(theta), np.cos(theta))\n",
        "    # return calculated (x, y, theta)\n",
        "    return (x, y, theta)"
      ]
    },
    {
      "cell_type": "markdown",
      "metadata": {
        "id": "CYXaBeZvbMM5"
      },
      "source": [
        "### Task\n",
        "Simulate motion along a straight line and circle\n",
        "\n",
        "Look at the kinematics equations you wrote - what should $v,\\omega$ if\n",
        "+ There is no change in $\\theta$\n",
        "+ $\\theta$ has to change from 0 to 360 degrees"
      ]
    },
    {
      "cell_type": "code",
      "execution_count": null,
      "metadata": {
        "id": "CqurPPXNbMM6"
      },
      "outputs": [],
      "source": [
        "#straight line\n",
        "straight_trajectory = []\n",
        "pose = (0, 0, np.pi/2)\n",
        "steps = 10 #number of time-steps for simulation\n",
        "#fill in scalar v and omega values\n",
        "v = [1]*steps\n",
        "w = [0]*steps\n",
        "\n",
        "for i in range(steps):\n",
        "   #instruction to take v, w and compute new pose \n",
        "   v1 = v[i]\n",
        "   w1 = w[i]\n",
        "   straight_trajectory.append(pose)   #append pose to straight_trajectory\n",
        "   pose =  unicycle_model(pose,v1,w1) #update_pose using unicycle_model()\n",
        "   \n",
        "straight_trajectory = np.array(straight_trajectory)\n",
        "    "
      ]
    },
    {
      "cell_type": "code",
      "execution_count": null,
      "metadata": {
        "id": "JP9ajzDtbMM6"
      },
      "outputs": [],
      "source": [
        "#circle\n",
        "circle_trajectory = []\n",
        "pose = (0, 0, np.pi/2)\n",
        "steps = 1000\n",
        "#fill in v and omega values \n",
        "w = [1]*steps\n",
        "v = [1]*steps\n",
        "for j in range(steps):\n",
        "    #instruction to take v, w and compute new pose \n",
        "    v2 = v[j]\n",
        "    w2 = w[j]\n",
        "    circle_trajectory.append(pose)      \n",
        "    new_pose = unicycle_model(pose, v2, w2,1)\n",
        "    # store new pose\n",
        "    pose = new_pose\n",
        "circle_trajectory = np.array(circle_trajectory)"
      ]
    },
    {
      "cell_type": "code",
      "execution_count": null,
      "metadata": {
        "id": "HFmAOIeybMM7",
        "colab": {
          "base_uri": "https://localhost:8080/",
          "height": 530
        },
        "outputId": "6f1a953a-0b4f-4556-aee3-735ed6c5c0c1"
      },
      "outputs": [
        {
          "output_type": "execute_result",
          "data": {
            "text/plain": [
              "[<matplotlib.lines.Line2D at 0x7f76b1e568d0>]"
            ]
          },
          "metadata": {},
          "execution_count": 18
        },
        {
          "output_type": "display_data",
          "data": {
            "image/png": "[encoded data removed]",
            "text/plain": [
              "<Figure size 432x288 with 1 Axes>"
            ]
          },
          "metadata": {
            "needs_background": "light"
          }
        },
        {
          "output_type": "display_data",
          "data": {
            "image/png": "[encoded data removed]",
            "text/plain": [
              "<Figure size 432x288 with 1 Axes>"
            ]
          },
          "metadata": {
            "needs_background": "light"
          }
        }
      ],
      "source": [
        "### Plot straight and circular trajectories\n",
        "plt.figure()\n",
        "plt.axes().set_aspect(\"equal\",\"datalim\")\n",
        "plt.plot(straight_trajectory[:,0],straight_trajectory[:,1])\n",
        "\n",
        "plt.figure()\n",
        "plt.axes().set_aspect(\"equal\",\"datalim\")\n",
        "plt.plot(circle_trajectory[:,0],circle_trajectory[:,1],',')\n",
        "\n"
      ]
    },
    {
      "cell_type": "markdown",
      "source": [
        "### Simulate Unicycle model with Open Loop control\n",
        "\n",
        "We want the robot to follow these instructions\n",
        "\n",
        "**straight 10m, right turn, straight 5m, left turn, straight 8m, right turn**\n",
        "\n",
        "It is in open loop; control commands have to be calculated upfront. How do we do it?\n",
        "\n",
        "To keep things simple in the first iteration, we can fix $v = v_c$ and change only $\\omega$. To make it even simpler, $\\omega$ can take only 2 values \n",
        "+ 0 when the vehicle is going straight \n",
        "+ $\\omega = \\omega_c$ when turning\n",
        "\n",
        "This leaves only 2 questions to be answered\n",
        "* What should be $v_c$ and $\\omega_c$?\n",
        "* When should $\\omega$ change from 0 and back?"
      ],
      "metadata": {
        "id": "n8lkNxkv9Ng4"
      }
    },
    {
      "cell_type": "code",
      "execution_count": null,
      "metadata": {
        "id": "Ac8hE6OeZEDu"
      },
      "outputs": [],
      "source": [
        "vc = 1 #m/s\n",
        "wc = np.pi/6 #rad/s\n",
        "\n",
        "#calculate time taken to finish a quarter turn (pi/2)\n",
        "t_turn = int(np.pi/2/wc)\n",
        "\n",
        "#calculate the time taken to finish straight segments\n",
        "# omega array is to be padded with equivalent zeros\n",
        "\n",
        "t_straight1, t_straight2, t_straight3 = int(10/vc), int(5/vc), int(8/ vc)\n",
        "\n",
        "all_w = [0]*t_straight1 + [wc]*t_turn + \\\n",
        "        [0]*t_straight2 + [wc]*t_turn + \\\n",
        "        [0]*t_straight3 + [-wc]*t_turn\n",
        "\n",
        "all_v = vc*np.ones_like(all_w)"
      ]
    },
    {
      "cell_type": "markdown",
      "source": [
        "Let us make a cool function out of this!\n",
        "\n",
        "Take in as input a generic route and convert it into open-loop commands\n",
        "\n",
        "Input format: [(\"straight\", 5), (\"right\", 90), (\"straight\", 6), (\"left\", 85)]\n",
        "\n",
        "Output: all_v, all_w"
      ],
      "metadata": {
        "id": "GT_vnJwo9g37"
      }
    },
    {
      "cell_type": "code",
      "source": [
        "def get_open_loop_commands(route,vc=1,wc=np.pi/12,dt=1.0):\n",
        "  all_w = []\n",
        "  w_values = {'straight': 0.0, 'left': wc, 'right': -wc}\n",
        "  for maneouvre, distance in route:\n",
        "    if(maneouvre == 'straight'):\n",
        "      t = int(distance/vc) #write your code\n",
        "      all_w.extend([w_values[maneouvre]] * t)\n",
        "    else:\n",
        "      t = int((np.pi/180)*distance/wc) #write your code\n",
        "      all_w.extend([w_values[maneouvre]] * t) \n",
        "  all_v = vc * np.ones_like(all_w)\n",
        "  print(\"all_w:\",all_w)\n",
        "  print(\"all_v:\",all_v)\n",
        "  return all_v, all_w"
      ],
      "metadata": {
        "id": "NhoP53bJ9h0Q"
      },
      "execution_count": null,
      "outputs": []
    },
    {
      "cell_type": "markdown",
      "source": [
        "### Unit test your function with the following inputs\n",
        "\n",
        "+ [(\"straight\", 5), (\"right\", 90), (\"straight\", 6), (\"left\", 85)]\n",
        "+ $v_c = 1$\n",
        "+ $w_c = \\pi/12$"
      ],
      "metadata": {
        "id": "coSPHclb9klo"
      }
    },
    {
      "cell_type": "code",
      "source": [
        "all_v, all_w = get_open_loop_commands([(\"straight\", 5), (\"right\", 90), (\"straight\", 6), (\"left\", 85)])"
      ],
      "metadata": {
        "id": "jZyceP_N9qek",
        "colab": {
          "base_uri": "https://localhost:8080/"
        },
        "outputId": "ae2d7ae4-10ee-45e9-e0e9-03d27585659e"
      },
      "execution_count": null,
      "outputs": [
        {
          "output_type": "stream",
          "name": "stdout",
          "text": [
            "all_w: [0.0, 0.0, 0.0, 0.0, 0.0, -0.2617993877991494, -0.2617993877991494, -0.2617993877991494, -0.2617993877991494, -0.2617993877991494, -0.2617993877991494, 0.0, 0.0, 0.0, 0.0, 0.0, 0.0, 0.2617993877991494, 0.2617993877991494, 0.2617993877991494, 0.2617993877991494, 0.2617993877991494]\n",
            "all_v: [1. 1. 1. 1. 1. 1. 1. 1. 1. 1. 1. 1. 1. 1. 1. 1. 1. 1. 1. 1. 1. 1.]\n"
          ]
        }
      ]
    },
    {
      "cell_type": "code",
      "source": [
        "robot_trajectory = []\n",
        "all_v, all_w = get_open_loop_commands([(\"straight\", 5), (\"right\", 90), (\"straight\", 6), (\"left\", 85)])\n",
        "pose = (0, 0, np.pi/2)\n",
        "curr_pose = (0,0,np.pi/2)\n",
        "robot_trajectory.append(curr_pose)\n",
        "for v, w in zip(all_v, all_w):\n",
        "    # store new pose\n",
        "    curr_pose = unicycle_model(curr_pose,v,w) #complete function call\n",
        "    #instruction to take v, w and compute new pose    \n",
        "    robot_trajectory.append(curr_pose)\n",
        "   "
      ],
      "metadata": {
        "id": "8XBBDzgW9uXG",
        "colab": {
          "base_uri": "https://localhost:8080/"
        },
        "outputId": "f56ed0d5-ec23-44bd-d658-070bd4616c8b"
      },
      "execution_count": null,
      "outputs": [
        {
          "output_type": "stream",
          "name": "stdout",
          "text": [
            "all_w: [0.0, 0.0, 0.0, 0.0, 0.0, -0.2617993877991494, -0.2617993877991494, -0.2617993877991494, -0.2617993877991494, -0.2617993877991494, -0.2617993877991494, 0.0, 0.0, 0.0, 0.0, 0.0, 0.0, 0.2617993877991494, 0.2617993877991494, 0.2617993877991494, 0.2617993877991494, 0.2617993877991494]\n",
            "all_v: [1. 1. 1. 1. 1. 1. 1. 1. 1. 1. 1. 1. 1. 1. 1. 1. 1. 1. 1. 1. 1. 1.]\n"
          ]
        }
      ]
    },
    {
      "cell_type": "code",
      "source": [
        "# plot robot trajectory\n",
        "plt.figure()\n",
        "plt.grid()\n",
        "#plt.plot( )\n",
        "\n",
        "#show first and last robot positions with + markers\n",
        "xi, yi, _ = robot_trajectory[0]\n",
        "xf, yf, _ = robot_trajectory[-1]\n",
        "plt.plot(xi, yi, 'ko', ms=10)\n",
        "plt.plot(xf, yf, 'go', ms=10)\n",
        "\n",
        "for x,y,_ in robot_trajectory[1:-1]:\n",
        "  plt.plot(x,y,'r+', ms=10)\n",
        "\n"
      ],
      "metadata": {
        "id": "EXZNeU309w7l",
        "colab": {
          "base_uri": "https://localhost:8080/",
          "height": 266
        },
        "outputId": "7f9b23cc-e2f9-4462-946e-b049707448ae"
      },
      "execution_count": null,
      "outputs": [
        {
          "output_type": "display_data",
          "data": {
            "image/png": "[encoded data removed]",
            "text/plain": [
              "<Figure size 432x288 with 1 Axes>"
            ]
          },
          "metadata": {
            "needs_background": "light"
          }
        }
      ]
    },
    {
      "cell_type": "markdown",
      "source": [
        "### Improved capabilities!\n",
        "\n",
        "+ Slow the robot while turning ($v_c$ for turn and straight needed)\n",
        "\n",
        "+ How to accommodate a sampling time < 1.0s (hint: think of sampling instances instead of time)"
      ],
      "metadata": {
        "id": "z645-sdp9zq7"
      }
    },
    {
      "cell_type": "code",
      "source": [
        "def get_open_loop_commands_with_variable_velocity(route,vc_straight=1,velocity_reduction_factor=2,wc=np.pi/12,dt=1.0):\n",
        "  all_w = []\n",
        "  all_v = []\n",
        "  w_values = {'straight': 0.0, 'left': wc, 'right': -wc}\n",
        "  for maneouvre, distance in route:\n",
        "    if(maneouvre == 'straight'):\n",
        "      t = int(distance/vc) #write your code\n",
        "      #all_w.extend([w_values[maneouvre]] * t)\n",
        "      all_w.extend([w_values[maneouvre]] * int(t/dt))\n",
        "      #all_v.extend([vc]*t)\n",
        "      all_v.extend([vc]*int(t/dt))\n",
        "    else:\n",
        "      t = int((np.pi/180)*distance/wc) #write your code\n",
        "      #all_w.extend([w_values[maneouvre]] * t)\n",
        "      all_w.extend([w_values[maneouvre]] * int(t/dt)) \n",
        "      #all_v.extend([vc/velocity_reduction_factor]*t)\n",
        "      all_v.extend([vc/velocity_reduction_factor]*int(t/dt))\n",
        "  print(\"all_w:\",all_w)\n",
        "  print(\"all_v:\",all_v)\n",
        "  return all_v, all_w"
      ],
      "metadata": {
        "id": "qbwi5Tr_e2Yc"
      },
      "execution_count": null,
      "outputs": []
    },
    {
      "cell_type": "code",
      "source": [
        "robot_trajectory = []\n",
        "all_v, all_w = get_open_loop_commands_with_variable_velocity([(\"straight\", 5), (\"right\", 90), (\"straight\", 6), (\"left\", 85)],dt = 0.5)\n",
        "pose = (0, 0, np.pi/2)\n",
        "curr_pose = (0,0,np.pi/2)\n",
        "robot_trajectory.append(curr_pose)\n",
        "for v, w in zip(all_v, all_w):\n",
        "    # store new pose\n",
        "    curr_pose = unicycle_model(curr_pose,v,w,dt=0.5) #complete function call\n",
        "    #instruction to take v, w and compute new pose    \n",
        "    robot_trajectory.append(curr_pose)"
      ],
      "metadata": {
        "colab": {
          "base_uri": "https://localhost:8080/"
        },
        "id": "LMiRsU0QfgUe",
        "outputId": "3dd11464-b743-4fc6-ff2f-183042599766"
      },
      "execution_count": null,
      "outputs": [
        {
          "output_type": "stream",
          "name": "stdout",
          "text": [
            "all_w: [0.0, 0.0, 0.0, 0.0, 0.0, 0.0, 0.0, 0.0, 0.0, 0.0, -0.2617993877991494, -0.2617993877991494, -0.2617993877991494, -0.2617993877991494, -0.2617993877991494, -0.2617993877991494, -0.2617993877991494, -0.2617993877991494, -0.2617993877991494, -0.2617993877991494, -0.2617993877991494, -0.2617993877991494, 0.0, 0.0, 0.0, 0.0, 0.0, 0.0, 0.0, 0.0, 0.0, 0.0, 0.0, 0.0, 0.2617993877991494, 0.2617993877991494, 0.2617993877991494, 0.2617993877991494, 0.2617993877991494, 0.2617993877991494, 0.2617993877991494, 0.2617993877991494, 0.2617993877991494, 0.2617993877991494]\n",
            "all_v: [1, 1, 1, 1, 1, 1, 1, 1, 1, 1, 0.5, 0.5, 0.5, 0.5, 0.5, 0.5, 0.5, 0.5, 0.5, 0.5, 0.5, 0.5, 1, 1, 1, 1, 1, 1, 1, 1, 1, 1, 1, 1, 0.5, 0.5, 0.5, 0.5, 0.5, 0.5, 0.5, 0.5, 0.5, 0.5]\n"
          ]
        }
      ]
    },
    {
      "cell_type": "code",
      "source": [
        "# plot robot trajectory\n",
        "plt.figure()\n",
        "plt.grid()\n",
        "#plt.plot( )\n",
        "\n",
        "#show first and last robot positions with + markers\n",
        "xi, yi, _ = robot_trajectory[0]\n",
        "xf, yf, _ = robot_trajectory[-1]\n",
        "plt.plot(xi, yi, 'ko', ms=10)\n",
        "plt.plot(xf, yf, 'go', ms=10)\n",
        "\n",
        "for x,y,_ in robot_trajectory[1:-1]:\n",
        "  plt.plot(x,y,'r+', ms=10)"
      ],
      "metadata": {
        "colab": {
          "base_uri": "https://localhost:8080/",
          "height": 265
        },
        "id": "2zAgpS9hgBbp",
        "outputId": "59b1506c-dcc4-4abc-cad4-b4aba81f7700"
      },
      "execution_count": null,
      "outputs": [
        {
          "output_type": "display_data",
          "data": {
            "image/png": "[encoded data removed]",
            "text/plain": [
              "<Figure size 432x288 with 1 Axes>"
            ]
          },
          "metadata": {
            "needs_background": "light"
          }
        }
      ]
    },
    {
      "cell_type": "code",
      "source": [],
      "metadata": {
        "id": "FaWMpC44gB4H"
      },
      "execution_count": null,
      "outputs": []
    }
  ],
  "metadata": {
    "colab": {
      "provenance": []
    },
    "kernelspec": {
      "display_name": "Python 3",
      "language": "python",
      "name": "python3"
    },
    "language_info": {
      "codemirror_mode": {
        "name": "ipython",
        "version": 3
      },
      "file_extension": ".py",
      "mimetype": "text/x-python",
      "name": "python",
      "nbconvert_exporter": "python",
      "pygments_lexer": "ipython3",
      "version": "3.9.7"
    },
    "varInspector": {
      "cols": {
        "lenName": 16,
        "lenType": 16,
        "lenVar": 40
      },
      "kernels_config": {
        "python": {
          "delete_cmd_postfix": "",
          "delete_cmd_prefix": "del ",
          "library": "var_list.py",
          "varRefreshCmd": "print(var_dic_list())"
        },
        "r": {
          "delete_cmd_postfix": ") ",
          "delete_cmd_prefix": "rm(",
          "library": "var_list.r",
          "varRefreshCmd": "cat(var_dic_list()) "
        }
      },
      "position": {
        "height": "144px",
        "left": "1090px",
        "right": "20px",
        "top": "13px",
        "width": "350px"
      },
      "types_to_exclude": [
        "module",
        "function",
        "builtin_function_or_method",
        "instance",
        "_Feature"
      ],
      "window_display": true
    }
  },
  "nbformat": 4,
  "nbformat_minor": 0
}