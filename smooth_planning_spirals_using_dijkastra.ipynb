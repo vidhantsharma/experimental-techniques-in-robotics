{
  "nbformat": 4,
  "nbformat_minor": 0,
  "metadata": {
    "kernelspec": {
      "display_name": "Python 3",
      "language": "python",
      "name": "python3"
    },
    "language_info": {
      "codemirror_mode": {
        "name": "ipython",
        "version": 3
      },
      "file_extension": ".py",
      "mimetype": "text/x-python",
      "name": "python",
      "nbconvert_exporter": "python",
      "pygments_lexer": "ipython3",
      "version": "3.9.1"
    },
    "varInspector": {
      "cols": {
        "lenName": 16,
        "lenType": 16,
        "lenVar": 40
      },
      "kernels_config": {
        "python": {
          "delete_cmd_postfix": "",
          "delete_cmd_prefix": "del ",
          "library": "var_list.py",
          "varRefreshCmd": "print(var_dic_list())"
        },
        "r": {
          "delete_cmd_postfix": ") ",
          "delete_cmd_prefix": "rm(",
          "library": "var_list.r",
          "varRefreshCmd": "cat(var_dic_list()) "
        }
      },
      "types_to_exclude": [
        "module",
        "function",
        "builtin_function_or_method",
        "instance",
        "_Feature"
      ],
      "window_display": true
    },
    "colab": {
      "provenance": []
    }
  },
  "cells": [
    {
      "cell_type": "code",
      "metadata": {
        "id": "uAVuwjwIvgAH"
      },
      "source": [
        "import numpy as np\n",
        "import matplotlib.pyplot as plt\n",
        "import networkx as nx\n",
        "from IPython.display import Image\n",
        "from numpy import asarray"
      ],
      "execution_count": null,
      "outputs": []
    },
    {
      "cell_type": "markdown",
      "metadata": {
        "id": "2b0es7VLvgAM"
      },
      "source": [
        "In the previous session we had generated robot trajectory using open-loop commands for a set of manoeuvres such as\n",
        "$[(\"straight\", 5), (\"right\", 90), (\"straight\", 6), (\"left\", 90)]$\n",
        "\n",
        "Let us repeat but with a change. Instead of left/ right, simply use turn and a signed angle.\n",
        "$[(\"straight\", 5), (\"turn\", -90), (\"straight\", 6), (\"turn\", 90)]$\n",
        "\n",
        "By convention, we use +ve for counter-clockwise and -ve for clockwise motion\n",
        "\n",
        "You can use cubic_spiral() from previous notebook"
      ]
    },
    {
      "cell_type": "code",
      "metadata": {
        "id": "bhkPFx35vgAO"
      },
      "source": [
        "v = 1.0\n",
        "dt = 0.1\n",
        "num_pts = 5\n",
        "num_st_pts = int(v/dt)\n",
        "\n",
        "def cubic_spiral(theta_i, theta_f, n=10):\n",
        "    x = np.linspace(0, 1, n)\n",
        "    #-2*x**3 + 3*x**2\n",
        "    thetas = theta_i + (theta_f-theta_i)*(-2*x**3+3*x**2)\n",
        "    return thetas\n",
        "    \n",
        "def straight(dist, curr_pose, n=num_st_pts):\n",
        "    x0, y0, t0 = curr_pose\n",
        "    # the straight-line may be along x or y axis\n",
        "    #curr_theta will determine the orientation\n",
        "    #write your code here\n",
        "    xf, yf = x0 + dist*np.cos(t0), y0 + dist*np.sin(t0)\n",
        "    #x, y are just linear interpolations between \n",
        "    #(x0,xf) and (y0,yf) respectively\n",
        "    x = np.linspace(x0, xf, int(dist*n))\n",
        "    y = np.linspace(y0, yf, int(dist*n))\n",
        "\n",
        "    #t0 does not change for straight\n",
        "    return x, y, t0*np.ones_like(x)\n",
        "\n",
        "def turn(change, curr_pose, n=num_pts):\n",
        "    # adjust scaling constant (n) for desired turn radius\n",
        "    # Ex: n = 50, v = 1 is for 3m radius\n",
        "    # n = 100 is for 6m radius\n",
        "     x0, y0, t0 = curr_pose\n",
        "     theta = cubic_spiral(t0, t0 + np.deg2rad(change), n)\n",
        "     x= x0 + np.cumsum(v*np.cos(theta)*dt)\n",
        "     y= y0 + np.cumsum(v*np.sin(theta)*dt)\n",
        "     return x, y, theta\n",
        "\n",
        "def generate_trajectory(route, init_pose = (0, 0,np.pi/2), radius=3.0):\n",
        "    curr_pose = init_pose\n",
        "    func = {'straight': straight, 'turn': turn}\n",
        "    scale = {'straight': 15, 'turn': int(50*radius/3.0)}\n",
        "    x, y, t = np.array([]), np.array([]),np.array([])\n",
        "    for manoeuvre, command in route:\n",
        "        print(f'manoeuvre {manoeuvre} scale {scale[manoeuvre]}')\n",
        "        # call straight() or turn() depending on manoeuvre\n",
        "        # single statement can be used in Python to achieve this\n",
        "        #func is a dictionary containing the function names\n",
        "        px, py, pt = func[manoeuvre](command, curr_pose, scale[manoeuvre])\n",
        "        #px, py, pt = your code here\n",
        "        #last pose of previous manoeuvre recorded\n",
        "        curr_pose = px[-1],py[-1],pt[-1] \n",
        "        x = np.concatenate([x, px])\n",
        "        y = np.concatenate([y, py])\n",
        "        t = np.concatenate([t, pt])\n",
        "        \n",
        "    return np.vstack([x, y, t])"
      ],
      "execution_count": null,
      "outputs": []
    },
    {
      "cell_type": "markdown",
      "metadata": {
        "id": "re-EN4-IvgAP"
      },
      "source": [
        "### Plot the trajectory\n",
        "plot the trajectory and the change in orientation in separate plots"
      ]
    },
    {
      "cell_type": "code",
      "metadata": {
        "colab": {
          "base_uri": "https://localhost:8080/",
          "height": 334
        },
        "id": "jnhR2RXmvgAP",
        "outputId": "95bcead5-2266-47c1-8817-dafcc3066c12"
      },
      "source": [
        "route = [(\"straight\", 5),(\"turn\", -90),(\"straight\", 6),(\"turn\", 90)]\n",
        "x, y, _ = generate_trajectory(route)\n",
        "plt.figure()\n",
        "plt.plot(x, y)\n",
        "plt.grid()"
      ],
      "execution_count": null,
      "outputs": [
        {
          "output_type": "stream",
          "name": "stdout",
          "text": [
            "manoeuvre straight scale 15\n",
            "manoeuvre turn scale 50\n",
            "manoeuvre straight scale 15\n",
            "manoeuvre turn scale 50\n"
          ]
        },
        {
          "output_type": "display_data",
          "data": {
            "image/png": "[encoded data removed]",
            "text/plain": [
              "<Figure size 432x288 with 1 Axes>"
            ]
          },
          "metadata": {
            "needs_background": "light"
          }
        }
      ]
    },
    {
      "cell_type": "markdown",
      "metadata": {
        "id": "th3IYgg-vgAP"
      },
      "source": [
        "## Convert \n",
        "\n",
        "Djikstra gives a sequence of $\\{(x_i, y_i)\\}$. We need to convert it to a sequence of {\"straight\", \"turn\"} if we are use generate_trajectory()\n",
        "\n",
        "Let us look at a simple method. Assume that the successive line segments are orthogonal (reasonable in the grid world). If we find the corner point, we can demarcate. \n",
        "\n",
        "For 3 consecutive points $(x_1,y_1), (x_2, y_2), (x_3, y_3)$ if \n",
        "$(x_1 - x_2)(y_3-y2) - (x_3-x_2)(y_2-y_1) \\neq 0$, then $(x_2, y_2)$ is a corner point\n",
        "\n",
        "Think about what is happening if\n",
        "\n",
        "1. $(x_1 - x_2)(y_3-y2) - (x_3-x_2)(y_2-y_1) > 0$\n",
        "\n",
        "2. $(x_1 - x_2)(y_3-y2) - (x_3-x_2)(y_2-y_1) < 0$"
      ]
    },
    {
      "cell_type": "code",
      "source": [
        "np.linalg.norm((1, 1),1)"
      ],
      "metadata": {
        "colab": {
          "base_uri": "https://localhost:8080/"
        },
        "id": "7-v_1OS-ylCe",
        "outputId": "6b86e4a3-1be3-4df3-97c8-cdbd0022ac86"
      },
      "execution_count": null,
      "outputs": [
        {
          "output_type": "execute_result",
          "data": {
            "text/plain": [
              "2.0"
            ]
          },
          "metadata": {},
          "execution_count": 10
        }
      ]
    },
    {
      "cell_type": "code",
      "metadata": {
        "colab": {
          "base_uri": "https://localhost:8080/",
          "height": 560
        },
        "id": "q4MEijvIvgAQ",
        "outputId": "964012ef-8db2-437b-dc31-595e9cd67b7d"
      },
      "source": [
        "# here is a code to generate 2 orthogonal \n",
        "# line segments of lengths 6\n",
        "\n",
        "s1, s2 = 8, 12\n",
        "y1 = list(range(s1))\n",
        "x1 = [0]*s1\n",
        "\n",
        "x2 = list(range(s2))\n",
        "y2 = [y1[-1]]*s2\n",
        "\n",
        "y3 = list(range(s2, 2*s2))\n",
        "x3 = [x2[-1]]*s2\n",
        "\n",
        "x, y = x1[:-1]+x2+x3, y1[:-1]+y2+y3\n",
        "plt.figure()\n",
        "plt.axes().set_aspect(\"equal\",\"datalim\")\n",
        "plt.plot(x, y)\n",
        "plt.grid()\n",
        "\n",
        "#find all corner points and plot it\n",
        "def find_all_corners(x, y):\n",
        "  corners, turn_sign = [], []\n",
        "  for x1,x2,x3, y1,y2,y3 in zip(x[:-2],x[1:-1],x[2:],y[:-2],y[1:-1],y[2:]):\n",
        "    slope = (x2-x1)*(y3-y2) - (x3-x2)*(y2-y1)\n",
        "    if np.abs(slope) > 0.0:\n",
        "        #your code here\n",
        "        corners.append((x2, y2))\n",
        "        turn_sign.append(np.sign(slope))\n",
        "  return corners, turn_sign\n",
        "\n",
        "def find_straight_length(pt, prev_x, prev_y):\n",
        "  x, y = pt\n",
        "  dx, dy = x-prev_x, y-prev_y\n",
        "  distance = np.linalg.norm((dx, dy))\n",
        "  return distance\n",
        "\n",
        "# Fix a turn radius r\n",
        "# Shorten the straight segments by r\n",
        "# convert this into {(\"straight\", s1), (\"turn\", +/- 90), (\"straight\", s2)}\n",
        "#assume route is (a) bookended by straights (b) turns are only 90\n",
        "\n",
        "def get_motion_primitives(x, y, r=2.5,prev_theta = np.pi/2):\n",
        "  corners, turn_signs = find_all_corners(x, y)\n",
        "  print(f\"Corners {corners}\")\n",
        "  route = []\n",
        "  prev_x, prev_y = 0, 0 \n",
        "  # prev_theta = np.pi/2\n",
        "  for corner_pt, turn_sign in zip(corners, turn_signs):\n",
        "    distance = find_straight_length(corner_pt, prev_x, prev_y) #complete the argument\n",
        "    route.append((\"straight\", distance - r))\n",
        "    route.append((\"turn\",turn_sign*90))\n",
        "    #get starting pose of next straight segment\n",
        "    prev_theta += (turn_sign*np.pi/2) #complete this using turn_sign and np.pi/2 variables\n",
        "    prev_x, prev_y = corner_pt[0] + r*np.cos(prev_theta), corner_pt[1]+r*np.sin(prev_theta)\n",
        "    print(f\"prev_x:{prev_x}, prev_y:{prev_y}, prev_t:{prev_theta:0.2f}\")\n",
        "  #Final straight segment\n",
        "  distance = find_straight_length((x[-1],y[-1]), prev_x, prev_y)\n",
        "  route.append((\"straight\", distance))\n",
        "  return route\n",
        "\n",
        "#3m turn  \n",
        "rad = 3\n",
        "route = get_motion_primitives(x, y, r=rad)\n",
        "smooth_x, smooth_y, _ = generate_trajectory(route, init_pose = (0,0,-np.pi/2),radius=rad)\n",
        "plt.plot(-smooth_x, -smooth_y, 'r--')\n",
        "\n",
        "#2m turn\n",
        "rad = 2\n",
        "route = get_motion_primitives(x, y, r=rad)\n",
        "smooth_x, smooth_y, _ = generate_trajectory(route, radius=rad)\n",
        "plt.plot(smooth_x, smooth_y, 'k--')"
      ],
      "execution_count": null,
      "outputs": [
        {
          "output_type": "stream",
          "name": "stdout",
          "text": [
            "Corners [(0, 7), (11, 7)]\n",
            "prev_x:3.0, prev_y:7.0, prev_t:0.00\n",
            "prev_x:11.0, prev_y:10.0, prev_t:1.57\n",
            "manoeuvre straight scale 15\n",
            "manoeuvre turn scale 50\n",
            "manoeuvre straight scale 15\n",
            "manoeuvre turn scale 50\n",
            "manoeuvre straight scale 15\n",
            "Corners [(0, 7), (11, 7)]\n",
            "prev_x:2.0, prev_y:7.0, prev_t:0.00\n",
            "prev_x:11.0, prev_y:9.0, prev_t:1.57\n",
            "manoeuvre straight scale 15\n",
            "manoeuvre turn scale 33\n",
            "manoeuvre straight scale 15\n",
            "manoeuvre turn scale 33\n",
            "manoeuvre straight scale 15\n"
          ]
        },
        {
          "output_type": "execute_result",
          "data": {
            "text/plain": [
              "[<matplotlib.lines.Line2D at 0x7f47e1128550>]"
            ]
          },
          "metadata": {},
          "execution_count": 11
        },
        {
          "output_type": "display_data",
          "data": {
            "image/png": "[encoded data removed]",
            "text/plain": [
              "<Figure size 432x288 with 1 Axes>"
            ]
          },
          "metadata": {
            "needs_background": "light"
          }
        }
      ]
    },
    {
      "cell_type": "markdown",
      "metadata": {
        "id": "taT38XfcvgAU"
      },
      "source": [
        "# More complex example\n",
        "Borrow the Grid world code from last class's notebook. Get the Djikstra path and smoothen it using the routine from above"
      ]
    },
    {
      "cell_type": "code",
      "metadata": {
        "id": "4s1VvNw-vgAV",
        "colab": {
          "base_uri": "https://localhost:8080/"
        },
        "outputId": "f8afd208-a71e-49de-e78b-38176a5cfd35"
      },
      "source": [
        "grid = np.load(\"./sample_data/robot_grid.npy\")\n",
        "print(grid.shape)"
      ],
      "execution_count": null,
      "outputs": [
        {
          "output_type": "stream",
          "name": "stdout",
          "text": [
            "(20, 20)\n"
          ]
        }
      ]
    },
    {
      "cell_type": "code",
      "source": [
        "# use np.load to load a grid of 1s and 0s\n",
        "# 1 - occupied 0- free\n",
        "# you can define your own start/ end\n",
        "start = (0, 0)\n",
        "goal = (0, 19)\n",
        "\n",
        "# visualize the start/ end and the robot's environment\n",
        "fig, ax = plt.subplots(figsize=(12,12))\n",
        "ax.imshow(grid, cmap=plt.cm.Dark2)\n",
        "ax.scatter(start[1],start[0], marker = \"+\", color = \"yellow\", s = 200)\n",
        "ax.scatter(goal[1],goal[0], marker = \"+\", color = \"red\", s = 200)\n",
        "plt.show()"
      ],
      "metadata": {
        "colab": {
          "base_uri": "https://localhost:8080/",
          "height": 700
        },
        "id": "CObDI60tkGzO",
        "outputId": "f5180bb9-145f-4c5f-eb15-088a5281eedd"
      },
      "execution_count": null,
      "outputs": [
        {
          "output_type": "display_data",
          "data": {
            "image/png": "[encoded data removed]",
            "text/plain": [
              "<Figure size 864x864 with 1 Axes>"
            ]
          },
          "metadata": {
            "needs_background": "light"
          }
        }
      ]
    },
    {
      "cell_type": "code",
      "source": [
        "from networkx.generators.lattice import grid_graph\n",
        "#initialize graph\n",
        "grid_size = grid.shape\n",
        "# G = nx.grid_2d_graph(*grid_size)\n",
        "G = nx.grid_2d_graph(grid_size[0],grid_size[1])\n",
        "\n",
        "deleted_nodes = 0 # counter to keep track of deleted nodes\n",
        "#nested loop to remove nodes that are not connected\n",
        "#free cell => grid[i, j] = 0\n",
        "#occupied cell => grid[i, j] = 1\n",
        "num_nodes = 0\n",
        "for i in range(grid_size[0]):\n",
        "  for j in range(grid_size[1]):\n",
        "    if grid[i, j] == 1: \n",
        "      G.remove_node((i,j)) #complete code\n",
        "      num_nodes += 1\n",
        "\n",
        "print(f\"removed {num_nodes} nodes\")\n",
        "print(f\"number of occupied cells in grid {np.sum(grid)}\")"
      ],
      "metadata": {
        "colab": {
          "base_uri": "https://localhost:8080/"
        },
        "id": "SMpQDsWmkKm1",
        "outputId": "2054ba40-1a93-4e5d-e5d6-9c0e61d0674d"
      },
      "execution_count": null,
      "outputs": [
        {
          "output_type": "stream",
          "name": "stdout",
          "text": [
            "removed 77 nodes\n",
            "number of occupied cells in grid 77\n"
          ]
        }
      ]
    },
    {
      "cell_type": "code",
      "source": [
        "pos = {(x,y):(y,-x) for x,y in G.nodes()}\n",
        "nx.draw(G, pos=pos, node_color='red', node_size=10)"
      ],
      "metadata": {
        "colab": {
          "base_uri": "https://localhost:8080/",
          "height": 319
        },
        "id": "M8tNYHbFkPGa",
        "outputId": "809d81ed-df66-4bac-e0ec-6f2c14d6427c"
      },
      "execution_count": null,
      "outputs": [
        {
          "output_type": "display_data",
          "data": {
            "image/png": "[encoded data removed]",
            "text/plain": [
              "<Figure size 432x288 with 1 Axes>"
            ]
          },
          "metadata": {}
        }
      ]
    },
    {
      "cell_type": "code",
      "source": [
        "dijkstra_path = nx.shortest_path(G,start,goal) #complete code\n",
        "print(dijkstra_path)"
      ],
      "metadata": {
        "colab": {
          "base_uri": "https://localhost:8080/"
        },
        "id": "iCs3sZkbkTdZ",
        "outputId": "bb5d1998-8198-4bad-9eef-ca975d1585e4"
      },
      "execution_count": null,
      "outputs": [
        {
          "output_type": "stream",
          "name": "stdout",
          "text": [
            "[(0, 0), (1, 0), (2, 0), (3, 0), (4, 0), (5, 0), (6, 0), (7, 0), (8, 0), (9, 0), (10, 0), (10, 1), (10, 2), (10, 3), (10, 4), (10, 5), (11, 5), (12, 5), (13, 5), (14, 5), (14, 4), (14, 3), (14, 2), (14, 1), (15, 1), (16, 1), (17, 1), (18, 1), (18, 2), (18, 3), (17, 3), (17, 4), (17, 5), (17, 6), (17, 7), (17, 8), (17, 9), (17, 10), (17, 11), (17, 12), (17, 13), (17, 14), (16, 14), (15, 14), (14, 14), (13, 14), (13, 13), (13, 12), (13, 11), (13, 10), (12, 10), (11, 10), (10, 10), (10, 11), (10, 12), (10, 13), (10, 14), (9, 14), (9, 15), (9, 16), (8, 16), (7, 16), (7, 17), (7, 18), (6, 18), (5, 18), (5, 19), (4, 19), (3, 19), (2, 19), (1, 19), (0, 19)]\n"
          ]
        }
      ]
    },
    {
      "cell_type": "code",
      "source": [
        "x= []\n",
        "y = []\n",
        "for i,j in dijkstra_path:\n",
        "  x.append(i)\n",
        "  y.append(j)\n",
        "print(x)\n",
        "print(y)"
      ],
      "metadata": {
        "colab": {
          "base_uri": "https://localhost:8080/"
        },
        "id": "AjSJZM39kXEw",
        "outputId": "950ae5d4-f846-46b5-c040-66ca49d91a17"
      },
      "execution_count": null,
      "outputs": [
        {
          "output_type": "stream",
          "name": "stdout",
          "text": [
            "[0, 1, 2, 3, 4, 5, 6, 7, 8, 9, 10, 10, 10, 10, 10, 10, 11, 12, 13, 14, 14, 14, 14, 14, 15, 16, 17, 18, 18, 18, 17, 17, 17, 17, 17, 17, 17, 17, 17, 17, 17, 17, 16, 15, 14, 13, 13, 13, 13, 13, 12, 11, 10, 10, 10, 10, 10, 9, 9, 9, 8, 7, 7, 7, 6, 5, 5, 4, 3, 2, 1, 0]\n",
            "[0, 0, 0, 0, 0, 0, 0, 0, 0, 0, 0, 1, 2, 3, 4, 5, 5, 5, 5, 5, 4, 3, 2, 1, 1, 1, 1, 1, 2, 3, 3, 4, 5, 6, 7, 8, 9, 10, 11, 12, 13, 14, 14, 14, 14, 14, 13, 12, 11, 10, 10, 10, 10, 11, 12, 13, 14, 14, 15, 16, 16, 16, 17, 18, 18, 18, 19, 19, 19, 19, 19, 19]\n"
          ]
        }
      ]
    },
    {
      "cell_type": "code",
      "source": [
        "radius = 0.3\n",
        "route = get_motion_primitives(x, y, radius,0)\n",
        "\n",
        "print(route)"
      ],
      "metadata": {
        "colab": {
          "base_uri": "https://localhost:8080/"
        },
        "id": "fOH6_imYkacz",
        "outputId": "3383a788-e90a-4a0d-d119-3e5f70ad745e"
      },
      "execution_count": null,
      "outputs": [
        {
          "output_type": "stream",
          "name": "stdout",
          "text": [
            "Corners [(10, 0), (10, 5), (14, 5), (14, 1), (18, 1), (18, 3), (17, 3), (17, 14), (13, 14), (13, 10), (10, 10), (10, 14), (9, 14), (9, 16), (7, 16), (7, 18), (5, 18), (5, 19)]\n",
            "prev_x:10.0, prev_y:0.3, prev_t:1.57\n",
            "prev_x:10.3, prev_y:5.0, prev_t:0.00\n",
            "prev_x:14.0, prev_y:4.7, prev_t:-1.57\n",
            "prev_x:14.3, prev_y:1.0, prev_t:0.00\n",
            "prev_x:18.0, prev_y:1.3, prev_t:1.57\n",
            "prev_x:17.7, prev_y:3.0, prev_t:3.14\n",
            "prev_x:17.0, prev_y:3.3, prev_t:1.57\n",
            "prev_x:16.7, prev_y:14.0, prev_t:3.14\n",
            "prev_x:13.0, prev_y:13.7, prev_t:4.71\n",
            "prev_x:12.7, prev_y:10.0, prev_t:3.14\n",
            "prev_x:10.0, prev_y:10.3, prev_t:1.57\n",
            "prev_x:9.7, prev_y:14.0, prev_t:3.14\n",
            "prev_x:9.0, prev_y:14.3, prev_t:1.57\n",
            "prev_x:8.7, prev_y:16.0, prev_t:3.14\n",
            "prev_x:7.0, prev_y:16.3, prev_t:1.57\n",
            "prev_x:6.7, prev_y:18.0, prev_t:3.14\n",
            "prev_x:5.0, prev_y:18.3, prev_t:1.57\n",
            "prev_x:4.7, prev_y:19.0, prev_t:3.14\n",
            "[('straight', 9.7), ('turn', 90), ('straight', 4.4), ('turn', -90), ('straight', 3.3999999999999995), ('turn', -90), ('straight', 3.4000000000000004), ('turn', 90), ('straight', 3.3999999999999995), ('turn', 90), ('straight', 1.4), ('turn', 90), ('straight', 0.3999999999999993), ('turn', -90), ('straight', 10.399999999999999), ('turn', 90), ('straight', 3.3999999999999995), ('turn', 90), ('straight', 3.3999999999999995), ('turn', -90), ('straight', 2.3999999999999995), ('turn', -90), ('straight', 3.3999999999999995), ('turn', 90), ('straight', 0.3999999999999993), ('turn', -90), ('straight', 1.3999999999999992), ('turn', 90), ('straight', 1.3999999999999992), ('turn', -90), ('straight', 1.3999999999999992), ('turn', 90), ('straight', 1.4000000000000001), ('turn', -90), ('straight', 0.3999999999999993), ('turn', 90), ('straight', 4.7)]\n"
          ]
        }
      ]
    },
    {
      "cell_type": "code",
      "source": [
        "xs, ys, _ = generate_trajectory(route,(0, 0,0),radius)\n",
        "plt.figure()\n",
        "plt.plot(xs,ys)\n",
        "plt.grid()"
      ],
      "metadata": {
        "colab": {
          "base_uri": "https://localhost:8080/",
          "height": 907
        },
        "id": "EZ6FW_SQkdqe",
        "outputId": "9f06dc2f-834a-41ea-b020-acd2b8bc6aa6"
      },
      "execution_count": null,
      "outputs": [
        {
          "output_type": "stream",
          "name": "stdout",
          "text": [
            "manoeuvre straight scale 15\n",
            "manoeuvre turn scale 5\n",
            "manoeuvre straight scale 15\n",
            "manoeuvre turn scale 5\n",
            "manoeuvre straight scale 15\n",
            "manoeuvre turn scale 5\n",
            "manoeuvre straight scale 15\n",
            "manoeuvre turn scale 5\n",
            "manoeuvre straight scale 15\n",
            "manoeuvre turn scale 5\n",
            "manoeuvre straight scale 15\n",
            "manoeuvre turn scale 5\n",
            "manoeuvre straight scale 15\n",
            "manoeuvre turn scale 5\n",
            "manoeuvre straight scale 15\n",
            "manoeuvre turn scale 5\n",
            "manoeuvre straight scale 15\n",
            "manoeuvre turn scale 5\n",
            "manoeuvre straight scale 15\n",
            "manoeuvre turn scale 5\n",
            "manoeuvre straight scale 15\n",
            "manoeuvre turn scale 5\n",
            "manoeuvre straight scale 15\n",
            "manoeuvre turn scale 5\n",
            "manoeuvre straight scale 15\n",
            "manoeuvre turn scale 5\n",
            "manoeuvre straight scale 15\n",
            "manoeuvre turn scale 5\n",
            "manoeuvre straight scale 15\n",
            "manoeuvre turn scale 5\n",
            "manoeuvre straight scale 15\n",
            "manoeuvre turn scale 5\n",
            "manoeuvre straight scale 15\n",
            "manoeuvre turn scale 5\n",
            "manoeuvre straight scale 15\n",
            "manoeuvre turn scale 5\n",
            "manoeuvre straight scale 15\n"
          ]
        },
        {
          "output_type": "display_data",
          "data": {
            "image/png": "[encoded data removed]",
            "text/plain": [
              "<Figure size 432x288 with 1 Axes>"
            ]
          },
          "metadata": {
            "needs_background": "light"
          }
        }
      ]
    },
    {
      "cell_type": "code",
      "source": [
        "fig, ax = plt.subplots(figsize=(12,12))\n",
        "ax.imshow(grid, cmap=plt.cm.Dark2)\n",
        "ax.scatter(start[1],start[0], marker = \"+\", color = \"yellow\", s = 200)\n",
        "ax.scatter(goal[1],goal[0], marker = \"+\", color = \"red\", s = 200)\n",
        "# for s in dijkstra_path[1:]:\n",
        "#   ax.plot(s[1], s[0],'r+')\n",
        "ax.plot(ys[1:], xs[1:],'r+')\n",
        "plt.grid()"
      ],
      "metadata": {
        "colab": {
          "base_uri": "https://localhost:8080/",
          "height": 700
        },
        "id": "i4OGvS4KkhGv",
        "outputId": "a158b584-8e52-4366-d4d0-55edc92fc879"
      },
      "execution_count": null,
      "outputs": [
        {
          "output_type": "display_data",
          "data": {
            "image/png": "[encoded data removed]",
            "text/plain": [
              "<Figure size 864x864 with 1 Axes>"
            ]
          },
          "metadata": {
            "needs_background": "light"
          }
        }
      ]
    },
    {
      "cell_type": "markdown",
      "metadata": {
        "id": "biZObANsvgAV"
      },
      "source": [
        "This approach of path planning with 90 deg turns juxtaposed between straight segments works well in structured environments.\n"
      ]
    },
    {
      "cell_type": "markdown",
      "metadata": {
        "id": "9fRQo6TOvgAV"
      },
      "source": [
        "There are 3 more advanced manouevres that you may need in practice\n",
        "\n",
        "1. Lane-change: Robot has to move laterally but without change to the orientation\n",
        "\n",
        "2. Inplace: Robot has to turn around itself\n",
        "    \n",
        "3. Reverse: Straights or turns in reverse\n",
        "\n",
        "Lane-change has to be applied as a combination of 2 cubic spirals (90 to 0 and 0 to 90). Inplace and Reverse are situational constructs"
      ]
    },
    {
      "cell_type": "code",
      "source": [],
      "metadata": {
        "id": "0WKxhw10_Yh7"
      },
      "execution_count": null,
      "outputs": []
    }
  ]
}